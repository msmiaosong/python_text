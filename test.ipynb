{
 "cells": [
  {
   "cell_type": "code",
   "execution_count": 28,
   "metadata": {},
   "outputs": [
    {
     "name": "stdout",
     "output_type": "stream",
     "text": [
      "A -- B\n",
      "A -- C\n",
      "B -- C\n"
     ]
    }
   ],
   "source": [
    "# A借B到C\n",
    "def func1(n,a,b,c):\n",
    "    if n == 1:\n",
    "        print(a,\"--\",c)\n",
    "        return None\n",
    "    if n == 2:\n",
    "        print(a,\"--\",b)\n",
    "        print(a,\"--\",c)\n",
    "        print(b,\"--\",c)\n",
    "        return None\n",
    "    func1(n-1,a,c,b)\n",
    "    print(a,\"--\",c)\n",
    "    func1(n-1,b,a,c)\n",
    "\n",
    "a = \"A\"\n",
    "b = \"B\"\n",
    "c = \"C\"\n",
    "n = 2\n",
    "func1(n , a , b, c)"
   ]
  },
  {
   "cell_type": "code",
   "execution_count": 29,
   "metadata": {},
   "outputs": [
    {
     "name": "stdout",
     "output_type": "stream",
     "text": [
      "A -- C\n",
      "A -- B\n",
      "C -- B\n",
      "A -- C\n",
      "B -- A\n",
      "B -- C\n",
      "A -- C\n"
     ]
    }
   ],
   "source": [
    "n = 3\n",
    "func1(n , a , b, c)"
   ]
  },
  {
   "cell_type": "code",
   "execution_count": 30,
   "metadata": {},
   "outputs": [
    {
     "name": "stdout",
     "output_type": "stream",
     "text": [
      "A -- B\n",
      "A -- C\n",
      "B -- C\n",
      "A -- B\n",
      "C -- A\n",
      "C -- B\n",
      "A -- B\n",
      "A -- C\n",
      "B -- C\n",
      "B -- A\n",
      "C -- A\n",
      "B -- C\n",
      "A -- B\n",
      "A -- C\n",
      "B -- C\n"
     ]
    }
   ],
   "source": [
    "n = 4\n",
    "func1(n,a,b,c)"
   ]
  },
  {
   "cell_type": "code",
   "execution_count": 5,
   "metadata": {},
   "outputs": [
    {
     "name": "stdout",
     "output_type": "stream",
     "text": [
      "* \n",
      "* * \n",
      "* * * \n",
      "* * * * \n",
      "* * * * * \n"
     ]
    }
   ],
   "source": [
    "#打印一个矩形\n",
    "for i in range(1,6):\n",
    "    for j in range(1,i+1):\n",
    "        print(\"*\",end = ' ')\n",
    "    print()"
   ]
  },
  {
   "cell_type": "code",
   "execution_count": 10,
   "metadata": {},
   "outputs": [
    {
     "name": "stdout",
     "output_type": "stream",
     "text": [
      "\n",
      "\n",
      "* * * \n",
      "* * * * \n",
      "* * * * * \n",
      "* * * * * * \n",
      "* * * * * * * \n"
     ]
    }
   ],
   "source": [
    "#打印一个矩形\n",
    "for i in range(1,8):\n",
    "    if i > 2:\n",
    "        for j in range(1,i+1):\n",
    "            print(\"*\",end = ' ')\n",
    "    print()"
   ]
  },
  {
   "cell_type": "code",
   "execution_count": 28,
   "metadata": {},
   "outputs": [
    {
     "name": "stdout",
     "output_type": "stream",
     "text": [
      "\n",
      "\n",
      "* * * \n",
      "*     * \n",
      "*       * \n",
      "*         * \n",
      "* * * * * * * \n"
     ]
    }
   ],
   "source": [
    "#打印一个空心矩形\n",
    "for i in range(1,8):\n",
    "    if i > 2:\n",
    "        for j in range(1,i+1):\n",
    "            \n",
    "            if j == 1 or i == 3 or i == 7 or j == i:    \n",
    "                print(\"*\",end =' ')\n",
    "            else:\n",
    "                print(' ', end = \" \")\n",
    "    print()"
   ]
  },
  {
   "cell_type": "code",
   "execution_count": 41,
   "metadata": {
    "scrolled": true
   },
   "outputs": [
    {
     "name": "stdout",
     "output_type": "stream",
     "text": [
      "\n",
      "\n",
      "\n",
      "* * * * \n",
      "*       * \n",
      "*         * \n",
      "*           * \n",
      "*             * \n",
      "* * * * * * * * * \n",
      "\n",
      "\n",
      "\n",
      "* * * * \n",
      "* * * * * \n",
      "* * * * * * \n",
      "* * * * * * * \n",
      "* * * * * * * * \n",
      "* * * * * * * * * \n"
     ]
    }
   ],
   "source": [
    "def juxing_kong(ul,hl):\n",
    "    for i in range(1,hl+1):\n",
    "        if i > ul-1:\n",
    "            for j in range(1,i+1):\n",
    "            \n",
    "                if j == 1 or i == ul or i == hl or j == i:    \n",
    "                    print(\"*\",end =' ')\n",
    "                else:\n",
    "                    print(' ', end = \" \")\n",
    "        print()\n",
    "    return None\n",
    "\n",
    "def juxing(ul,hl):\n",
    "    for i in range(1,hl+1):\n",
    "        if i > ul-1:\n",
    "            for j in range(1,i+1):\n",
    "                    print(\"*\",end =' ')\n",
    "        print()\n",
    "    return None\n",
    "\n",
    "b = 9\n",
    "c = 4\n",
    "juxing_kong(c,b)\n",
    "juxing(c,b)"
   ]
  },
  {
   "cell_type": "code",
   "execution_count": 48,
   "metadata": {},
   "outputs": [
    {
     "name": "stdout",
     "output_type": "stream",
     "text": [
      "* \n",
      "* * \n",
      "* * * \n",
      "* * * * \n",
      "* * * * * \n",
      "* * * * * * \n",
      "* * * * * * * \n",
      "* * * * * * * * \n"
     ]
    }
   ],
   "source": [
    "#打印一个等边三角形\n",
    "def sanjiao(a):\n",
    "    for i in range(1,a+1):\n",
    "        for j in range(1,i+1):\n",
    "            print('*',end=' ')\n",
    "        print()\n",
    "def sanjiao1(a)\n",
    "    for i in range(1,a+1):\n",
    "        for j in range(1,i+1):\n",
    "            print('*',end=' ')\n",
    "        print()\n",
    "        \n",
    "        \n",
    "sanjiao(8)"
   ]
  },
  {
   "cell_type": "code",
   "execution_count": 61,
   "metadata": {},
   "outputs": [
    {
     "name": "stdout",
     "output_type": "stream",
     "text": [
      "        * \n",
      "       * * \n",
      "      * * * \n",
      "     * * * * \n",
      "    * * * * * \n",
      "   * * * * * * \n",
      "  * * * * * * * \n",
      " * * * * * * * * \n"
     ]
    }
   ],
   "source": [
    "#等边三角形\n",
    "for i in range(0,8):\n",
    "    for j in range(0,8-i):\n",
    "        print(end=' ')\n",
    "    for k in range(8-i,9):    \n",
    "        print(\"*\",end = ' ')\n",
    "    print()"
   ]
  },
  {
   "cell_type": "code",
   "execution_count": 2,
   "metadata": {},
   "outputs": [
    {
     "name": "stdout",
     "output_type": "stream",
     "text": [
      " \n",
      "* "
     ]
    }
   ],
   "source": [
    "print(end=' ')\n",
    "print()\n",
    "print('*',end=' ')"
   ]
  },
  {
   "cell_type": "code",
   "execution_count": 7,
   "metadata": {},
   "outputs": [
    {
     "name": "stdout",
     "output_type": "stream",
     "text": [
      "        * \n",
      "       * * \n",
      "      *   * \n",
      "     *     * \n",
      "    *       * \n",
      "   *         * \n",
      "  *           * \n",
      " * * * * * * * * \n"
     ]
    }
   ],
   "source": [
    "#等边三角形\n",
    "for i in range(0,8):\n",
    "    for j in range(0,8-i):\n",
    "        print(end=' ')\n",
    "    for k in range(8-i,9):\n",
    "        if k == 8-i or k == 8 or i == 7:\n",
    "            print(\"*\",end = ' ')\n",
    "        else:\n",
    "            print(' ',end=' ')\n",
    "    print()"
   ]
  },
  {
   "cell_type": "code",
   "execution_count": 26,
   "metadata": {},
   "outputs": [
    {
     "name": "stdout",
     "output_type": "stream",
     "text": [
      "       * \n",
      "      * * \n",
      "     *   * \n",
      "    *     * \n",
      "   *       * \n",
      "  *         * \n",
      " *           * \n",
      "* * * * * * * * \n",
      " * * * * * * * \n",
      "  * * * * * * \n",
      "   * * * * * \n",
      "    * * * * \n",
      "     * * * \n",
      "      * * \n",
      "       * \n"
     ]
    }
   ],
   "source": [
    "for i in range(0,8):\n",
    "    for j in range(0,7-i):\n",
    "        print(end=' ')\n",
    "    for k in range(7-i,8):\n",
    "        if k == 7-i or k == 7 or i == 7:\n",
    "            print(\"*\",end = ' ')\n",
    "        else:\n",
    "            print(' ',end=' ')\n",
    "    print()\n",
    "for i in range(0,7):\n",
    "    for j in range(0,i+1):\n",
    "        print(end=' ')\n",
    "    for k in range(i,7):\n",
    "        \n",
    "            print(\"*\",end = ' ')\n",
    "       \n",
    "    print()"
   ]
  },
  {
   "cell_type": "code",
   "execution_count": 35,
   "metadata": {},
   "outputs": [
    {
     "name": "stdout",
     "output_type": "stream",
     "text": [
      "          * * * * * \n",
      "          * * * * * \n",
      "          * * * * * \n",
      "          * * * * * \n",
      "          * * * * * \n"
     ]
    }
   ],
   "source": [
    "#打印字母C\n",
    "for i in range(5):\n",
    "    for j in range(5):\n",
    "        print(' ',end = ' ')\n",
    "    for j in range(5):\n",
    "            print('*',end = \" \")\n",
    "    print()"
   ]
  },
  {
   "cell_type": "code",
   "execution_count": 46,
   "metadata": {},
   "outputs": [
    {
     "name": "stdout",
     "output_type": "stream",
     "text": [
      "  * * * \n",
      "* \n",
      "* \n",
      "* \n",
      "  * * * \n"
     ]
    }
   ],
   "source": [
    "#打印字母C\n",
    "for i in range(5):\n",
    "    for j in range(5):\n",
    "        if i == 0 and j ==0:\n",
    "            print(' ',end = ' ')\n",
    "        if i == 4 and j ==0:\n",
    "            print(' ',end = ' ')\n",
    "\n",
    "            \n",
    "    for k in range(5):\n",
    "        if (i == 0 or i == 4) and (k in range(1,4)):\n",
    "            print('*',end = \" \")\n",
    "        if i in range(1,4):\n",
    "            print('*',end =' ')\n",
    "            break\n",
    "\n",
    "    print()"
   ]
  },
  {
   "cell_type": "code",
   "execution_count": 42,
   "metadata": {},
   "outputs": [
    {
     "name": "stdout",
     "output_type": "stream",
     "text": [
      "aaa\n"
     ]
    }
   ],
   "source": [
    "a = 3\n",
    "if a in range(1,5):\n",
    "    print('aaa')"
   ]
  },
  {
   "cell_type": "code",
   "execution_count": 50,
   "metadata": {},
   "outputs": [
    {
     "name": "stdout",
     "output_type": "stream",
     "text": [
      "$3\n",
      "$2\n",
      "$1\n",
      "$0\n",
      "====================\n",
      "0\n",
      "1\n",
      "2\n",
      "3\n"
     ]
    }
   ],
   "source": [
    "def digui(num):\n",
    "    print('$'+str(num))\n",
    "    if num >0:\n",
    "        digui(num-1)\n",
    "    else:\n",
    "        print('='*20)\n",
    "    print(num)\n",
    "digui(3)"
   ]
  },
  {
   "cell_type": "code",
   "execution_count": null,
   "metadata": {
    "collapsed": true
   },
   "outputs": [],
   "source": []
  }
 ],
 "metadata": {
  "kernelspec": {
   "display_name": "Python 3",
   "language": "python",
   "name": "python3"
  },
  "language_info": {
   "codemirror_mode": {
    "name": "ipython",
    "version": 3
   },
   "file_extension": ".py",
   "mimetype": "text/x-python",
   "name": "python",
   "nbconvert_exporter": "python",
   "pygments_lexer": "ipython3",
   "version": "3.6.3"
  }
 },
 "nbformat": 4,
 "nbformat_minor": 2
}
